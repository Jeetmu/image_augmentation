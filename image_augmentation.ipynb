{
 "cells": [
  {
   "cell_type": "code",
   "execution_count": null,
   "id": "e3d5a4b8-9f86-4289-8c0f-55e2f993c55e",
   "metadata": {
    "tags": []
   },
   "outputs": [],
   "source": [
    "#image augmenation used in cv and dl to artificially increase the diversity and size of a dataset by applying transformations  \n",
    "# lke flipping, roation, zooming etc\n",
    "import numpy as np\n",
    "from keras.preprocessing.image import ImageDataGenerator\n",
    "from keras.applications.inception_v3 import preprocess_input\n",
    "from keras.models import Sequential\n",
    "from keras.layers import Conv2D, MaxPooling2D, Flatten, Dense\n",
    "from keras.optimizers import Adam"
   ]
  },
  {
   "cell_type": "code",
   "execution_count": null,
   "id": "f8089903-7f3f-4cfa-8888-c44f51d13a8c",
   "metadata": {},
   "outputs": [],
   "source": [
    "ImageDataGenerator()"
   ]
  },
  {
   "cell_type": "code",
   "execution_count": null,
   "id": "b3a16d81-bd26-48d9-a242-52156cd514a0",
   "metadata": {},
   "outputs": [],
   "source": [
    "# check that sample-sonfirm is empty\n",
    "# imageDataGenerator generates image in real time\n",
    "train_datagen = ImageDataGenerator(\n",
    "    preprocessing_function=preprocess_input,\n",
    "    rotation_range=40,\n",
    "    width_shift_range=0.2,\n",
    "    height_shift_range=0.2,\n",
    "    shear_range=0.2,\n",
    "    zoom_range=0.2,\n",
    "    horizontal_flip=True,\n",
    "    fill_mode='nearest'\n",
    ")\n",
    "\n",
    "validation_datagen = ImageDataGenerator(preprocessing_function=preprocess_input)\n",
    "\n",
    "train_generator = train_datagen.flow_from_directory('data/train', \n",
    "                                                    target_size=(150,150),\n",
    "                                                    batch_size=32,\n",
    "                                                   class_mode='binary')\n",
    "\n",
    "validation_generator = validation_datagen.flow_from_directory(\n",
    "    'data/validation',\n",
    "    target_size=(150,150),\n",
    "    batch_size=32,\n",
    "    class_mode='binary'\n",
    ")\n",
    "\n"
   ]
  },
  {
   "cell_type": "code",
   "execution_count": null,
   "id": "ec7125b0-5e5f-4c6e-b0ad-07973d7db671",
   "metadata": {},
   "outputs": [],
   "source": [
    "# Build\n",
    "model = Sequential()\n",
    "model.add(Conv2D(32, \n",
    "                 kernel_size=(3,3), \n",
    "                 activation='relu', \n",
    "                 input_shape=(150,150,3)))\n",
    "model.add(MaxPooling2D(2,2))\n",
    "model.add(Conv2D(64,\n",
    "                kernel_size=(3,3),\n",
    "                activation='relu'))\n",
    "model.add(MaxPooling2D(2,2))\n",
    "model.add(Conv2D(128,\n",
    "                kernel_size=(3,3),\n",
    "                activation='relu'))\n",
    "model.add(MaxPooling2D(2,2))\n",
    "model.add(Flatten())\n",
    "model.add(Dense(512, activation='relu'))\n",
    "model.add(Dense(1, activation='softmax'))\n"
   ]
  },
  {
   "cell_type": "code",
   "execution_count": null,
   "id": "9d21c6c6-030b-4865-b27b-5edb70c8552b",
   "metadata": {},
   "outputs": [],
   "source": [
    "model.compile(loss='binary_crossentropy', optimizer='adam', metrics=['accuracy'])"
   ]
  },
  {
   "cell_type": "code",
   "execution_count": null,
   "id": "dbb8648e-34df-4c5f-9436-099dd7de8568",
   "metadata": {},
   "outputs": [],
   "source": [
    "# train\n",
    "history = model.fit(\n",
    "    train_generator,\n",
    "    steps_per_epoch=train_generator.samples // train_generator.batch_size,\n",
    "    epochs=5,\n",
    "    validation_data=validation_generator,\n",
    "    validation_steps=validation_generator.samples // validation_generator.batch_size\n",
    ")"
   ]
  },
  {
   "cell_type": "code",
   "execution_count": null,
   "id": "b57ade01-2f28-4f48-931d-84dafeb3401c",
   "metadata": {},
   "outputs": [],
   "source": [
    "test_loss,test_accuracy = model.evaluate(validation_generator)"
   ]
  }
 ],
 "metadata": {
  "kernelspec": {
   "display_name": "Python 3",
   "language": "python",
   "name": "python3"
  },
  "language_info": {
   "codemirror_mode": {
    "name": "ipython",
    "version": 3
   },
   "file_extension": ".py",
   "mimetype": "text/x-python",
   "name": "python",
   "nbconvert_exporter": "python",
   "pygments_lexer": "ipython3",
   "version": "3.8.8"
  }
 },
 "nbformat": 4,
 "nbformat_minor": 5
}
